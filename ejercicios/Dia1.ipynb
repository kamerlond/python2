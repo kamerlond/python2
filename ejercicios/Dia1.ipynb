{
  "nbformat": 4,
  "nbformat_minor": 0,
  "metadata": {
    "colab": {
      "provenance": [],
      "authorship_tag": "ABX9TyOOH6bimERIQrfQx0gvJsq+",
      "include_colab_link": true
    },
    "kernelspec": {
      "name": "python3",
      "display_name": "Python 3"
    },
    "language_info": {
      "name": "python"
    }
  },
  "cells": [
    {
      "cell_type": "markdown",
      "metadata": {
        "id": "view-in-github",
        "colab_type": "text"
      },
      "source": [
        "<a href=\"https://colab.research.google.com/github/kamerlond/python2/blob/main/ejercicios/Dia1.ipynb\" target=\"_parent\"><img src=\"https://colab.research.google.com/assets/colab-badge.svg\" alt=\"Open In Colab\"/></a>"
      ]
    },
    {
      "cell_type": "code",
      "execution_count": 2,
      "metadata": {
        "colab": {
          "base_uri": "https://localhost:8080/"
        },
        "id": "-r-vLa-J5QlX",
        "outputId": "98afba81-1cc7-486d-9907-0c0caa593822"
      },
      "outputs": [
        {
          "output_type": "stream",
          "name": "stdout",
          "text": [
            "Hola, Mundo Paython\n"
          ]
        }
      ],
      "source": [
        "print(\"Hola, Mundo Paython\")"
      ]
    },
    {
      "cell_type": "code",
      "source": [
        "print(\"El numero es\", 4)\n",
        "print(\"2 + 2 =\", 2 + 2)"
      ],
      "metadata": {
        "colab": {
          "base_uri": "https://localhost:8080/"
        },
        "id": "5iEK3WFr5mL4",
        "outputId": "1900ad74-dd20-4955-bf6c-aeb8dea5cb44"
      },
      "execution_count": 5,
      "outputs": [
        {
          "output_type": "stream",
          "name": "stdout",
          "text": [
            "El numero es 4\n",
            "2 + 2 = 4\n"
          ]
        }
      ]
    },
    {
      "cell_type": "code",
      "source": [
        "name = \"Amador\"\n",
        "print(f\"Hola, {name}! Bienvenido a la programacion con Paython\")"
      ],
      "metadata": {
        "colab": {
          "base_uri": "https://localhost:8080/"
        },
        "id": "yW0e0DIl6DzW",
        "outputId": "e4202eea-87fd-4ce3-f208-da0c3b290bb7"
      },
      "execution_count": 7,
      "outputs": [
        {
          "output_type": "stream",
          "name": "stdout",
          "text": [
            "Hola, Amador! Bienvenido a la programacion con Paython\n"
          ]
        }
      ]
    },
    {
      "cell_type": "code",
      "source": [
        "userName = input(\"¿Cual es tu nombre?\")\n",
        "print(f\"Hola, {userName}! Bienvenido a la programacion con Paython\")"
      ],
      "metadata": {
        "colab": {
          "base_uri": "https://localhost:8080/"
        },
        "id": "iaGhb1_T6qFR",
        "outputId": "a823bc83-edf0-469a-a9b2-04005bafc6a7"
      },
      "execution_count": 11,
      "outputs": [
        {
          "output_type": "stream",
          "name": "stdout",
          "text": [
            "¿Cual es tu nombre?\n",
            "Hola, ! Bienvenido a la programacion con Paython\n"
          ]
        }
      ]
    },
    {
      "cell_type": "code",
      "source": [
        "# Generador de Mensajes de Bienvenida\n",
        "\n",
        "# Requisito 1: Preguntar por los detalles al usuario\n",
        "name = input(\"¿Cual es tu nombre? \")\n",
        "hobby = input(\"¿Cual es tu pasatiempo favorito? \")\n",
        "color = input(\"¿Cual es tu color favorito? \")\n",
        "fecha = input(\"¿Cual es la fecha de hoy? \")\n",
        "hora = input(\"¿Cual es la hora actual? \")\n",
        "\n",
        "\n",
        "# Requisito 2: General un mensaje de bienvenida personalizado\n",
        "print(\"\\n--- Mensaje de Bienvenida ---\")\n",
        "print(f\"Hola, {name.upper()}! 👋​\")\n",
        "print(f\"Bienvenido al mundo de la programacion Paython.\")\n",
        "print(f\"Es genial saber que te gusta {hobby}.\")\n",
        "print(f\"Es genial saber que tu color favorito es {color}.\")\n",
        "print(f\"La hora actual es {hora} y la fecha de hoy es {fecha}.\")\n",
        "print(f\"Preparate para construir algo increible hoy.\")"
      ],
      "metadata": {
        "colab": {
          "base_uri": "https://localhost:8080/"
        },
        "id": "Oezg2uSY7VC_",
        "outputId": "83b8ac0a-e444-40b9-f71d-2088a9c0bb38"
      },
      "execution_count": 21,
      "outputs": [
        {
          "output_type": "stream",
          "name": "stdout",
          "text": [
            "¿Cual es tu nombre? amador\n",
            "¿Cual es tu pasatiempo favorito? videojuegos\n",
            "¿Cual es tu color favorito? negro\n",
            "¿Cual es la fecha de hoy? 23 de junio de 2025\n",
            "¿Cual es la hora actual? 15:38\n",
            "\n",
            "--- Mensaje de Bienvenida ---\n",
            "Hola, AMADOR! 👋​\n",
            "Bienvenido al mundo de la programacion Paython.\n",
            "Es genial saber que te gusta videojuegos.\n",
            "Es genial saber que tu color favorito es negro.\n",
            "La hora actual es 15:38 y la fecha de hoy es 23 de junio de 2025.\n",
            "Preparate para construir algo increible hoy.\n"
          ]
        }
      ]
    }
  ]
}