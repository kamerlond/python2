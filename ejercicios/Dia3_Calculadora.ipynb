{
  "nbformat": 4,
  "nbformat_minor": 0,
  "metadata": {
    "colab": {
      "provenance": [],
      "authorship_tag": "ABX9TyNlvt1vUvkb0vkdEzsMCDWp",
      "include_colab_link": true
    },
    "kernelspec": {
      "name": "python3",
      "display_name": "Python 3"
    },
    "language_info": {
      "name": "python"
    }
  },
  "cells": [
    {
      "cell_type": "markdown",
      "metadata": {
        "id": "view-in-github",
        "colab_type": "text"
      },
      "source": [
        "<a href=\"https://colab.research.google.com/github/kamerlond/python2/blob/main/ejercicios/Dia3_Calculadora.ipynb\" target=\"_parent\"><img src=\"https://colab.research.google.com/assets/colab-badge.svg\" alt=\"Open In Colab\"/></a>"
      ]
    },
    {
      "cell_type": "code",
      "execution_count": 1,
      "metadata": {
        "colab": {
          "base_uri": "https://localhost:8080/"
        },
        "id": "-s-qHbFHcx3b",
        "outputId": "dd0c9d35-b056-4293-fc54-3bba89f9de5d"
      },
      "outputs": [
        {
          "output_type": "stream",
          "name": "stdout",
          "text": [
            "Ingresa tu nobre: Amador\n",
            "Hola, Amador\n"
          ]
        }
      ],
      "source": [
        "name = input(\"Ingresa tu nobre: \")\n",
        "print(f\"Hola, {name}\")"
      ]
    },
    {
      "cell_type": "code",
      "source": [
        "num1 = input(\"Ingresa un numero: \")\n",
        "num1 = str(num1)\n",
        "print(f\"Numero duplicado: {num1 * 2}\")"
      ],
      "metadata": {
        "colab": {
          "base_uri": "https://localhost:8080/"
        },
        "id": "1Y36DVe1dOYD",
        "outputId": "63ee713f-e6df-4f9a-b3bb-00d504879999"
      },
      "execution_count": 4,
      "outputs": [
        {
          "output_type": "stream",
          "name": "stdout",
          "text": [
            "Ingresa un numero: 5\n",
            "Numero duplicado: 55\n"
          ]
        }
      ]
    },
    {
      "cell_type": "code",
      "source": [
        "num1 = int(input(\"Ingresa el primer numero: \"))\n",
        "num2 = int(input(\"Ingresa el segundo numero: \"))\n",
        "result = num1 + num2\n",
        "\n",
        "print(f\"La suma del primer numero {num1} mas la del segundo numero {num2} es: {result}\")"
      ],
      "metadata": {
        "colab": {
          "base_uri": "https://localhost:8080/"
        },
        "id": "pOv2VjiGd9Y2",
        "outputId": "9242b1df-7716-4425-e889-fb8b1f70703e"
      },
      "execution_count": 6,
      "outputs": [
        {
          "output_type": "stream",
          "name": "stdout",
          "text": [
            "Ingresa el primer numero: 10\n",
            "Ingresa el segundo numero: 5\n",
            "La suma del primer numero 10 mas la del segundo numero 5 es: 15\n"
          ]
        }
      ]
    },
    {
      "cell_type": "code",
      "source": [
        "a = 5\n",
        "b = 3\n",
        "\n",
        "print(f\"Suma: {a + b}\")\n",
        "print(f\"Resta: {a - b}\")\n",
        "print(f\"Multiplicacion: {a * b}\")\n",
        "print(f\"Division: {a / b}\")\n",
        "print(f\"Division entera: {a // b}\")\n",
        "print(f\"Modulo: {a % b}\")\n",
        "print(f\"Exponenciacion: {a ** b}\")"
      ],
      "metadata": {
        "colab": {
          "base_uri": "https://localhost:8080/"
        },
        "id": "svRG7habfFrW",
        "outputId": "9be008c2-3ca2-490b-b2e2-57242db733e6"
      },
      "execution_count": 8,
      "outputs": [
        {
          "output_type": "stream",
          "name": "stdout",
          "text": [
            "Suma: 8\n",
            "Resta: 2\n",
            "Multiplicacion: 15\n",
            "Division: 1.6666666666666667\n",
            "Division entera: 1\n",
            "Modulo: 2\n",
            "Exponenciacion: 125\n"
          ]
        }
      ]
    },
    {
      "cell_type": "code",
      "source": [
        "# Calculadora simple\n",
        "\n",
        "# Paso 1: Obtener los numeros del usuario\n",
        "number1 = float(input(\"Introduce el primer numero: \"))\n",
        "number2 = float(input(\"Introduce el segundo numero: \"))\n",
        "\n",
        "# Paso 2: Crear las operaciones aritmeticas\n",
        "sumar = number1 + number2\n",
        "restar = number1 - number2\n",
        "multiplicar = number1 * number2\n",
        "dividir = number1 / number2 if number2 != 0 else \"No puede dividirse por 0\"\n",
        "\n",
        "# Paso 3: Mostrar los resultados\n",
        "print(\"\\n--- Resultados de la Calculadora ---\")\n",
        "print(f\"Suma:{number1} + {number2} = {sumar}\")\n",
        "print(f\"Resta:{number1} - {number2} = {restar}\")\n",
        "print(f\"Multiplicacion:{number1} * {number2} = {multiplicar}\")\n",
        "print(f\"Division:{number1} / {number2} = {dividir}\")"
      ],
      "metadata": {
        "colab": {
          "base_uri": "https://localhost:8080/"
        },
        "id": "K8Mz7SW7gLnX",
        "outputId": "4b6ad00f-d0a2-4861-ff92-7cd2151b7e20"
      },
      "execution_count": 11,
      "outputs": [
        {
          "output_type": "stream",
          "name": "stdout",
          "text": [
            "Introduce el primer numero: 3\n",
            "Introduce el segundo numero: 0\n",
            "\n",
            "--- Resultados de la Calculadora ---\n",
            "Suma:3.0 + 0.0 = 3.0\n",
            "Resta:3.0 - 0.0 = 3.0\n",
            "Multiplicacion:3.0 * 0.0 = 0.0\n",
            "Division:3.0 / 0.0 = No puede dividirse por 0\n"
          ]
        }
      ]
    }
  ]
}