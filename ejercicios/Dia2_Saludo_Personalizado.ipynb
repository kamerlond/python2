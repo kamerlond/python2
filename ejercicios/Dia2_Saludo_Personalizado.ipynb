{
  "nbformat": 4,
  "nbformat_minor": 0,
  "metadata": {
    "colab": {
      "provenance": [],
      "authorship_tag": "ABX9TyPlos5PR9CqOt+91bMUw5IZ",
      "include_colab_link": true
    },
    "kernelspec": {
      "name": "python3",
      "display_name": "Python 3"
    },
    "language_info": {
      "name": "python"
    }
  },
  "cells": [
    {
      "cell_type": "markdown",
      "metadata": {
        "id": "view-in-github",
        "colab_type": "text"
      },
      "source": [
        "<a href=\"https://colab.research.google.com/github/kamerlond/python2/blob/main/ejercicios/Dia2_Saludo_Personalizado.ipynb\" target=\"_parent\"><img src=\"https://colab.research.google.com/assets/colab-badge.svg\" alt=\"Open In Colab\"/></a>"
      ]
    },
    {
      "cell_type": "code",
      "execution_count": null,
      "metadata": {
        "id": "b0LH4fLNPuXH"
      },
      "outputs": [],
      "source": [
        "# Almacenando un bombre en una variable\n",
        "name = \"Amador\"\n",
        "\n",
        "# Almacenando una edad a una variable\n",
        "age = 31"
      ]
    },
    {
      "cell_type": "code",
      "source": [
        "# String\n",
        "name = \"Amador\"\n",
        "\n",
        "# Integer\n",
        "age = 31\n",
        "\n",
        "# Float\n",
        "height = 5.8\n",
        "\n",
        "# Boolean\n",
        "is_student = False\n",
        "\n",
        "print(type(name))\n",
        "print(type(age))\n",
        "print(type(height))\n",
        "print(type(is_student))"
      ],
      "metadata": {
        "colab": {
          "base_uri": "https://localhost:8080/"
        },
        "id": "rQjNtIHCYg5P",
        "outputId": "2f47e674-622a-49e5-9cf5-644a46da8592"
      },
      "execution_count": 1,
      "outputs": [
        {
          "output_type": "stream",
          "name": "stdout",
          "text": [
            "<class 'str'>\n",
            "<class 'int'>\n",
            "<class 'float'>\n",
            "<class 'bool'>\n"
          ]
        }
      ]
    },
    {
      "cell_type": "code",
      "source": [
        "age = \"31\"\n",
        "\n",
        "myAge = int(age)\n",
        "\n",
        "print(myAge + 5)"
      ],
      "metadata": {
        "colab": {
          "base_uri": "https://localhost:8080/"
        },
        "id": "c4dCbTYuZMel",
        "outputId": "0a40ce6b-2d1e-4c09-b894-3eaf52299ef3"
      },
      "execution_count": 2,
      "outputs": [
        {
          "output_type": "stream",
          "name": "stdout",
          "text": [
            "36\n"
          ]
        }
      ]
    },
    {
      "cell_type": "code",
      "source": [
        "name = \"Amador\"\n",
        "\n",
        "print(\"Hola, \" + name + \"!\")\n",
        "\n",
        "print(\"Hola mi amigo, {}|\".format(name))\n",
        "\n",
        "print(f\"Hola, {name}!\")"
      ],
      "metadata": {
        "colab": {
          "base_uri": "https://localhost:8080/"
        },
        "id": "9Ooom5ZoZsf-",
        "outputId": "767233d3-862f-445f-ef53-c6de898b9a17"
      },
      "execution_count": 5,
      "outputs": [
        {
          "output_type": "stream",
          "name": "stdout",
          "text": [
            "Hola, Amador!\n",
            "Hola mi amigo, Amador|\n",
            "Hola, Amador!\n"
          ]
        }
      ]
    },
    {
      "cell_type": "code",
      "source": [
        "from ast import increment_lineno\n",
        "# Programa de saludo personalizado\n",
        "\n",
        "# Paso 1: Preguntar los detalles\n",
        "name = input(\"¿Cual es tu nombre? \")\n",
        "age = int(input(\"¿Cual es tu edad? \"))\n",
        "color= input(\"¿Cual es tu color favorito? \")\n",
        "\n",
        "# Paso 2: Generar un saludo personalizado\n",
        "print(\"\\n---- Saludo Personalizado ----\")\n",
        "print(f\"Hola, {name}!\")\n",
        "print(f\"Tu tienes {age} años y el {color} es tu color favorito\")\n",
        "print(\"Ahora estas listo para iniciar tu Python\")"
      ],
      "metadata": {
        "colab": {
          "base_uri": "https://localhost:8080/"
        },
        "id": "lcAa_OQwanPz",
        "outputId": "3cb83dff-165c-406b-d079-f08a3ca6ab9a"
      },
      "execution_count": 6,
      "outputs": [
        {
          "output_type": "stream",
          "name": "stdout",
          "text": [
            "¿Cual es tu nombre? Amador Perez\n",
            "¿Cual es tu edad? 33\n",
            "¿Cual es tu color favorito? Negro\n",
            "\n",
            "---- Saludo Personalizado ----\n",
            "Hola, Amador Perez!\n",
            "Tu tienes 33 años y el Negro es tu color favorito\n",
            "Ahora estas listo para iniciar tu Python\n"
          ]
        }
      ]
    }
  ]
}