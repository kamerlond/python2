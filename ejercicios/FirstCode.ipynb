{
  "nbformat": 4,
  "nbformat_minor": 0,
  "metadata": {
    "colab": {
      "provenance": [],
      "authorship_tag": "ABX9TyMKdOWS+IXGyxmp43xA3/3g",
      "include_colab_link": true
    },
    "kernelspec": {
      "name": "python3",
      "display_name": "Python 3"
    },
    "language_info": {
      "name": "python"
    }
  },
  "cells": [
    {
      "cell_type": "markdown",
      "metadata": {
        "id": "view-in-github",
        "colab_type": "text"
      },
      "source": [
        "<a href=\"https://colab.research.google.com/github/kamerlond/python2/blob/main/ejercicios/FirstCode.ipynb\" target=\"_parent\"><img src=\"https://colab.research.google.com/assets/colab-badge.svg\" alt=\"Open In Colab\"/></a>"
      ]
    },
    {
      "cell_type": "code",
      "execution_count": 2,
      "metadata": {
        "colab": {
          "base_uri": "https://localhost:8080/"
        },
        "id": "KCE1-Nh5Jcb-",
        "outputId": "b6568034-165a-49fa-9f9e-6e6ecab83949"
      },
      "outputs": [
        {
          "output_type": "stream",
          "name": "stdout",
          "text": [
            "Hola vivian\n"
          ]
        }
      ],
      "source": [
        "print(\"Hola vivian\")"
      ]
    },
    {
      "cell_type": "code",
      "source": [
        "name = \"vivian\"\n",
        "age = 15\n",
        "height = 5.8\n",
        "is_gamer = True\n",
        "\n",
        "print(\"Name:\", name)\n",
        "print(\"Age:\", age)\n",
        "print(\"Height:\", height)\n",
        "print(\"Is Gamer?\", is_gamer)"
      ],
      "metadata": {
        "colab": {
          "base_uri": "https://localhost:8080/"
        },
        "id": "-wIyNsL2KDSG",
        "outputId": "2645ee79-9306-483f-a0da-67cfd7c78d05"
      },
      "execution_count": 4,
      "outputs": [
        {
          "output_type": "stream",
          "name": "stdout",
          "text": [
            "Name: vivian\n",
            "Age: 15\n",
            "Height: 5.8\n",
            "Is Gamer? True\n"
          ]
        }
      ]
    },
    {
      "cell_type": "code",
      "source": [
        "user_name = input(\"Cual es su nombre?\")\n",
        "print(\"Bienvenido/a, \" + user_name + \"!\")"
      ],
      "metadata": {
        "colab": {
          "base_uri": "https://localhost:8080/"
        },
        "id": "JLuuINb-PXv5",
        "outputId": "fc69ee94-c290-4e31-9b0d-3015a4f4e984"
      },
      "execution_count": 7,
      "outputs": [
        {
          "output_type": "stream",
          "name": "stdout",
          "text": [
            "Cual es su nombre?Amador\n",
            "Bienvenido/a, Amador!\n"
          ]
        }
      ]
    },
    {
      "cell_type": "code",
      "source": [
        "x = 3\n",
        "y = 10\n",
        "\n",
        "print(x + y)\n",
        "print(y - x)\n",
        "print(x * y)\n",
        "print(y / x)\n",
        "print(y // x)\n",
        "print(y % x)\n",
        "print(y ** x)"
      ],
      "metadata": {
        "colab": {
          "base_uri": "https://localhost:8080/"
        },
        "id": "3u2pCDPVevEh",
        "outputId": "e1372ae5-6e1b-44ee-c9f7-0eb9b54cdbbb"
      },
      "execution_count": 8,
      "outputs": [
        {
          "output_type": "stream",
          "name": "stdout",
          "text": [
            "13\n",
            "7\n",
            "30\n",
            "3.3333333333333335\n",
            "3\n",
            "1\n",
            "1000\n"
          ]
        }
      ]
    },
    {
      "cell_type": "code",
      "source": [
        "age = int(input(\"Introduce tu edad: \"))\n",
        "\n",
        "if age >= 18:\n",
        "  print(\"Eres adulto.\")\n",
        "elif age >= 13:\n",
        "  print(\"Eres un adolescente.\")\n",
        "else:\n",
        "  print(\"Eres menor.\")"
      ],
      "metadata": {
        "colab": {
          "base_uri": "https://localhost:8080/"
        },
        "id": "S-DISjhVhsKp",
        "outputId": "bcb0848e-595c-490d-b298-e662a6cfc2a1"
      },
      "execution_count": 15,
      "outputs": [
        {
          "output_type": "stream",
          "name": "stdout",
          "text": [
            "Introduce tu edad: 13\n",
            "Eres un adolescente.\n"
          ]
        }
      ]
    },
    {
      "cell_type": "code",
      "source": [
        "count = 0\n",
        "while count < 10:\n",
        "  print(\"Count is:\", count)\n",
        "  count += 1"
      ],
      "metadata": {
        "colab": {
          "base_uri": "https://localhost:8080/"
        },
        "id": "CQQBSdOfjEbk",
        "outputId": "fa92ad61-a032-49c0-8866-1341466cedd9"
      },
      "execution_count": 18,
      "outputs": [
        {
          "output_type": "stream",
          "name": "stdout",
          "text": [
            "Count is: 0\n",
            "Count is: 1\n",
            "Count is: 2\n",
            "Count is: 3\n",
            "Count is: 4\n",
            "Count is: 5\n",
            "Count is: 6\n",
            "Count is: 7\n",
            "Count is: 8\n",
            "Count is: 9\n"
          ]
        }
      ]
    },
    {
      "cell_type": "code",
      "source": [
        "video_games = [\"Juego 1\", \"Juego 2\", \"Juego 3\"]\n",
        "\n",
        "#print(video_games[0])\n",
        "\n",
        "video_games.append(\"Juego 4\")\n",
        "\n",
        "\n",
        "video_games[1] = \"Juego 8\"\n",
        "\n",
        "print(video_games)\n",
        "\n",
        "#for game in video_games:\n",
        "#  print(game)"
      ],
      "metadata": {
        "colab": {
          "base_uri": "https://localhost:8080/"
        },
        "id": "hao7N_J0jwaU",
        "outputId": "e2b40eb1-8ece-4f76-9498-23046d761ee6"
      },
      "execution_count": 23,
      "outputs": [
        {
          "output_type": "stream",
          "name": "stdout",
          "text": [
            "['Juego 1', 'Juego 8', 'Juego 3', 'Juego 4']\n"
          ]
        }
      ]
    },
    {
      "cell_type": "code",
      "source": [
        "def say_hello(person_name):\n",
        "  print(\"Hola, \" + person_name +\" a tu primera funcion\")\n",
        "\n",
        "say_hello(\"Amador\")\n",
        "\n",
        "def multiply(a, b):\n",
        "  return a * b\n",
        "\n",
        "result = multiply(3, 5)\n",
        "print(\"Resultado: \",result)"
      ],
      "metadata": {
        "colab": {
          "base_uri": "https://localhost:8080/"
        },
        "id": "utmtp72llNR-",
        "outputId": "b86e9267-dda0-4f5d-9286-ac19bea816c8"
      },
      "execution_count": 27,
      "outputs": [
        {
          "output_type": "stream",
          "name": "stdout",
          "text": [
            "Hola, Amador a tu primera funcion\n",
            "Resultado:  15\n"
          ]
        }
      ]
    },
    {
      "cell_type": "code",
      "source": [
        "import random\n",
        "\n",
        "secret_number = random.randint(1, 10)\n",
        "attempts = 3\n",
        "\n",
        "print(\"Estoy pensando en un numero entre 1 y 10\")\n",
        "\n",
        "while attempts > 0:\n",
        "  guess = int(input(\"Haz una suposicion: \"))\n",
        "  if guess == secret_number:\n",
        "    print(\"Felicitaciones! Haz adivinado el numero\")\n",
        "    break\n",
        "  elif guess < secret_number:\n",
        "    print(\"Demasido bajo! Vuelve a intentarlo\")\n",
        "  else:\n",
        "    print(\"Demasiado alto! Vuelve a intenarlo\")\n",
        "  attempts -= 1\n",
        "\n",
        "if attempts == 0:\n",
        "  print(\"Lo siento, no te quedan mas intentos. Tu numero secreto es:\", secret_number)"
      ],
      "metadata": {
        "colab": {
          "base_uri": "https://localhost:8080/"
        },
        "id": "D9i4T31JnWEr",
        "outputId": "01ebcd13-d9f2-4f0a-cb04-e93d2077572d"
      },
      "execution_count": 29,
      "outputs": [
        {
          "output_type": "stream",
          "name": "stdout",
          "text": [
            "Estoy pensando en un numero entre 1 y 10\n",
            "Haz una suposicion: 7\n",
            "Demasido bajo! Vuelve a intentarlo\n",
            "Haz una suposicion: 9\n",
            "Demasido bajo! Vuelve a intentarlo\n",
            "Haz una suposicion: 8\n",
            "Demasido bajo! Vuelve a intentarlo\n",
            "Lo siento, no te quedan mas intentos. Tu numero secreto es: 10\n"
          ]
        }
      ]
    }
  ]
}